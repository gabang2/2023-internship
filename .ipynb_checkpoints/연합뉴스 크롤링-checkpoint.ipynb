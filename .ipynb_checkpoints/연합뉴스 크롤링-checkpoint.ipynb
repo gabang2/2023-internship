{
 "cells": [
  {
   "cell_type": "code",
   "execution_count": 87,
   "id": "8a6cf39a",
   "metadata": {},
   "outputs": [
    {
     "name": "stdout",
     "output_type": "stream",
     "text": [
      "                                subject  \\\n",
      "0        中 출발 크루즈 6년간 제주 발길 끊어…올해도 '전무'   \n",
      "1    [인천돋보기](25) 강릉엔 정동진·인천엔 정서진…해넘이 명소   \n",
      "2         부산역 광장∼초량동 잇는 38ｍ 공중보행로 조성 추진   \n",
      "3       갤러리아百, 명품 신발 선보인다…내년 루이비통·샤넬 오픈   \n",
      "4  아시아-북미 잇는 '베링육교' 훨씬 늦은 3만5천700년 전 열려   \n",
      "\n",
      "                                             content                     tags  \n",
      "0  ...어졌다.\\n\\n    2일 제주도가 확정한 2023년 국제크루즈 선석 배정 결...                   [#크루즈]  \n",
      "1  ...uot;아라뱃길은 서해와 한강을 잇는 최초 뱃길로 우리 민족의 멋과 얼, 정서...    [#경인아라뱃길, #정서진, #해넘이]  \n",
      "2  ...어 현재 실시설계 용역을 벌이고 있으며, 내년 7월 용역을 마무리하고 2024...           [#부산역, #공중보행로]  \n",
      "3  ...으로 루이비통과 샤넬 슈즈를 선보일 예정이다. \\n    디올 슈즈 매장은 디...               [#슈즈, #명품]  \n",
      "4  ... \\n    이는 약 11만 년 전 마지막 빙기가 시작되고 6만 년 이상 지난...  [#베링육교, #샌타크루즈 캘리포니아대학]  \n"
     ]
    }
   ],
   "source": [
    "from selenium import webdriver\n",
    "from bs4 import BeautifulSoup as bs\n",
    "import csv\n",
    "from time import sleep\n",
    "import ast\n",
    "import pandas as pd\n",
    "\n",
    "dir_driver=\"./chromedriver\"\n",
    "driver=webdriver.Chrome(dir_driver)\n",
    "sleep(0.5)\n",
    "\n",
    "keyword = '크루즈'\n",
    "base_url=\"https://www.yna.co.kr/search/index?query={}\".format(keyword)\n",
    "driver.get(base_url)\n",
    "object = bs(driver.page_source, 'html.parser')\n",
    "\n",
    "# 제목 크롤링\n",
    "subjects = object.find_all('span', {'class':'tt2'})\n",
    "subjects = [subject.text for subject in subjects]\n",
    "\n",
    "# 내용 크롤링\n",
    "contents = object.find_all('span', {'class':'cts'})\n",
    "contents = [content.text for content in contents]\n",
    "\n",
    "# 태그 크롤링\n",
    "tags = list()\n",
    "for i in range(1, 6):\n",
    "    driver.find_element_by_xpath('//*[@id=\"article_list\"]/div[2]/ul/li[{}]/a'.format(i)).click()\n",
    "    sleep(0.1)\n",
    "    object = bs(driver.page_source, 'html.parser')\n",
    "    temp_tags = object.select('#articleWrap > div.content01.scroll-article-zone01 > div > div > div.keyword-zone > ul > li > a')\n",
    "    temp_tags = [temp_tag.text for temp_tag in temp_tags]\n",
    "    tags.append(temp_tags)\n",
    "    driver.back()\n",
    "    sleep(0.1)\n",
    "\n",
    "data = {\"subject\" : subjects, \"content\":contents, \"tags\":tags}\n",
    "df = pd.DataFrame(data)\n",
    "print(df.head(5))\n",
    "driver.close()\n",
    "#df.to_csv(\"test.csv\", encoding = \"utf-8-sig\")"
   ]
  },
  {
   "cell_type": "code",
   "execution_count": 93,
   "id": "2e67442d",
   "metadata": {},
   "outputs": [
    {
     "name": "stdout",
     "output_type": "stream",
     "text": [
      "이미 동일한 이름의 폴더가 있습니다\n"
     ]
    },
    {
     "name": "stderr",
     "output_type": "stream",
     "text": [
      "C:\\Users\\offbe\\AppData\\Local\\Temp\\ipykernel_19672\\2839977654.py:36: TqdmDeprecationWarning: This function will be removed in tqdm==5.0.0\n",
      "Please use `tqdm.notebook.tqdm` instead of `tqdm.tqdm_notebook`\n",
      "  for i in tq(range(len(imgSrc))):\n"
     ]
    },
    {
     "data": {
      "application/vnd.jupyter.widget-view+json": {
       "model_id": "350791c590ed4e61a1a1ec32e21ed242",
       "version_major": 2,
       "version_minor": 0
      },
      "text/plain": [
       "0it [00:00, ?it/s]"
      ]
     },
     "metadata": {},
     "output_type": "display_data"
    }
   ],
   "source": [
    "import os # 파일 시스템을 위한 라이브러리 ex) 파일, 폴더를 생성 삭제\n",
    "from urllib.request import urlretrieve # 이미지의 경로를 파일로 저장\n",
    "\n",
    "if not os.path.isdir(\"C:/Users/offbe/Desktop/Project/2023internship/이미지\") :\n",
    "    print('폴더 생성 완료')\n",
    "    os.mkdir(\"C:/Users/offbe/Desktop/Project/2023internship/이미지\")\n",
    "else:\n",
    "    print(\"이미 동일한 이름의 폴더가 있습니다\")\n",
    "    \n",
    "import os # 파일 시스템을 위한 라이브러리 ex) 파일, 폴더를 생성 삭제\n",
    "from urllib.request import urlretrieve # 이미지의 경로를 파일로 저장\n",
    "\n",
    "dir_driver=\"./chromedriver\"\n",
    "driver=webdriver.Chrome(dir_driver)\n",
    "url = \"https://search.naver.com/search.naver?sm=tab_hty.top&where=image&query=%EA%B3%A0%EC%96%91%EC%9D%B4&oquery=%EA%B0%95%EC%95%84%EC%A7%80&tqi=h7EdVlp0J1sssg6TcBhssssst%2BK-502111\"\n",
    "driver.get(url)\n",
    "\n",
    "soup = bs(driver.page_source, 'lxml')\n",
    "img = soup.select(\"img._listImage\")\n",
    "# 안에있는 속성값만 접근하고 싶으면 대괄호[]를 이용하면 된다.\n",
    "#img[0][\"src\"]\n",
    "\n",
    "imgSrc = []\n",
    "\n",
    "for i in img:\n",
    "    imgSrc.append(i[\"src\"])\n",
    "    \n",
    "len(imgSrc)\n",
    "\n",
    "from tqdm import tqdm_notebook as tq\n",
    "\n",
    "# urlretrieve : URL로 표시된 네트워크 객체(URL 주소의 문서)를 로컬 파일로 저장, 즉 직접 다운로드가 가능하다\n",
    "\n",
    "# 파일의 이름 생성\n",
    "fileNo = 0\n",
    "for i in tq(range(len(imgSrc))):\n",
    "    urlretrieve(imgSrc[i], \"C:/Users/SM2119/Desktop/이미지/\"+str(fileNo)+\".jpg\")\n",
    "    fileNo += 1\n",
    "    time.sleep(1)"
   ]
  },
  {
   "cell_type": "code",
   "execution_count": null,
   "id": "e9c93ef9",
   "metadata": {},
   "outputs": [],
   "source": [
    "# selenium 관련 라이브러리를 불러오는 코드\n",
    "from selenium import webdriver\n",
    "from selenium.webdriver.common.keys import Keys\n",
    "# 프로그램을 잠깐 멈추게 하기위한 라이브러리\n",
    "import time\n",
    "# url로 이미지를 다운받기 위한 라이브러리\n",
    "import urllib.request\n",
    "\n",
    "# 다운받은 chromedriver를 불러와서 driver 변수에 저장\n",
    "dir_driver=\"./chromedriver\"\n",
    "driver=webdriver.Chrome(dir_driver)\n",
    "\n",
    "# driver로 해당 페이지로 이동 : 구글 이미지로 이동\n",
    "driver.get(\"https://www.google.co.kr/imghp?hl=ko&ogbl\")\n",
    "\n",
    "# 검색창 element 찾기 / 구글 이미지 input name = q\n",
    "elem = driver.find_element_by_name(\"q\")\n",
    "\n",
    "\n",
    "# 원하는 값 입력\n",
    "elem.send_keys(\"팀노바\")\n",
    "\n",
    "# 입력한 값 전송\n",
    "elem.send_keys(Keys.RETURN)\n",
    "\n",
    "SCROLL_PAUSE_TIME = 1\n",
    "\n",
    "# Get scroll height\n",
    "last_height = driver.execute_script(\"return document.body.scrollHeight\")\n",
    "\n",
    "while True:\n",
    "    # Scroll down to bottom\n",
    "    driver.execute_script(\"window.scrollTo(0, document.body.scrollHeight);\")\n",
    "\n",
    "    # Wait to load page\n",
    "    time.sleep(SCROLL_PAUSE_TIME)\n",
    "\n",
    "    # Calculate new scroll height and compare with last scroll height\n",
    "    new_height = driver.execute_script(\"return document.body.scrollHeight\")\n",
    "    if new_height == last_height:\n",
    "        try:\n",
    "            driver.find_element_by_css_selector(\".my34qd\").click()\n",
    "        except: break\n",
    "    last_height = new_height\n",
    "\n",
    "# 내가 필요한 요소 선택 : 검색한 미리보기 이미지\n",
    "images = driver.find_elements_by_css_selector(\".rg_i.Q4LuWd\")[0].click()\n",
    "count = 1\n",
    "#반복문으로 이미지요소 배열들 돌며 작업 \n",
    "for image in images:\n",
    "    # 이미지 클릭\n",
    "    image.click()\n",
    "    # 브라우저가 클릭을 한후 바로 뜨진 않으니 기다리는 시간을 주기 위함\n",
    "    time.sleep(3)\n",
    "\n",
    "    # 미리보기 이미지를 클릭해서 큰 이미지를 띄우고 큰 이미지를 선택하고 src 속성을 가져옴\n",
    "    driver.find_element_by_css_selector(\".n3VNCb\")\n",
    "\n",
    "    imgUrl = driver.find_element_by_css_selector(\".n3VNCb\").get_attribute(\"src\")\n",
    "\n",
    "    # 이미지를 url로 다운받는다.\n",
    "    urllib.request.urlretrieve(imgUrl, str(count)+\".jpg\")\n",
    "\n",
    "    count = count + 1\n",
    "\n",
    "driver.close()"
   ]
  }
 ],
 "metadata": {
  "kernelspec": {
   "display_name": "Python 3 (ipykernel)",
   "language": "python",
   "name": "python3"
  },
  "language_info": {
   "codemirror_mode": {
    "name": "ipython",
    "version": 3
   },
   "file_extension": ".py",
   "mimetype": "text/x-python",
   "name": "python",
   "nbconvert_exporter": "python",
   "pygments_lexer": "ipython3",
   "version": "3.9.12"
  }
 },
 "nbformat": 4,
 "nbformat_minor": 5
}
