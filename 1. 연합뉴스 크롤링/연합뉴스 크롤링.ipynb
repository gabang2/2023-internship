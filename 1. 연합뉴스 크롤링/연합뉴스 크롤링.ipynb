{
 "cells": [
  {
   "cell_type": "code",
   "execution_count": 37,
   "id": "8261d286",
   "metadata": {
    "scrolled": true
   },
   "outputs": [
    {
     "name": "stdout",
     "output_type": "stream",
     "text": [
      "                                subject  \\\n",
      "0        中 출발 크루즈 6년간 제주 발길 끊어…올해도 '전무'   \n",
      "1    [인천돋보기](25) 강릉엔 정동진·인천엔 정서진…해넘이 명소   \n",
      "2         부산역 광장∼초량동 잇는 38ｍ 공중보행로 조성 추진   \n",
      "3       갤러리아百, 명품 신발 선보인다…내년 루이비통·샤넬 오픈   \n",
      "4  아시아-북미 잇는 '베링육교' 훨씬 늦은 3만5천700년 전 열려   \n",
      "\n",
      "                                             content                     tags  \\\n",
      "0  ...어졌다.\\n\\n    2일 제주도가 확정한 2023년 국제크루즈 선석 배정 결...                   [#크루즈]   \n",
      "1  ...uot;아라뱃길은 서해와 한강을 잇는 최초 뱃길로 우리 민족의 멋과 얼, 정서...    [#경인아라뱃길, #정서진, #해넘이]   \n",
      "2  ...어 현재 실시설계 용역을 벌이고 있으며, 내년 7월 용역을 마무리하고 2024...           [#부산역, #공중보행로]   \n",
      "3  ...으로 루이비통과 샤넬 슈즈를 선보일 예정이다. \\n    디올 슈즈 매장은 디...               [#슈즈, #명품]   \n",
      "4  ... \\n    이는 약 11만 년 전 마지막 빙기가 시작되고 6만 년 이상 지난...  [#베링육교, #샌타크루즈 캘리포니아대학]   \n",
      "\n",
      "                                              images  \n",
      "0  https://img.yna.co.kr/photo/yna/YH/2017/03/16/...  \n",
      "1  https://img.yna.co.kr/etc/inner/KR/2022/12/27/...  \n",
      "2  https://img.yna.co.kr/photo/cms/2020/01/10/60/...  \n",
      "3  https://img.yna.co.kr/etc/inner/KR/2022/12/27/...  \n",
      "4  https://img.yna.co.kr/etc/inner/KR/2022/12/27/...  \n"
     ]
    }
   ],
   "source": [
    "from selenium import webdriver\n",
    "from bs4 import BeautifulSoup as bs\n",
    "import csv\n",
    "from time import sleep\n",
    "import ast\n",
    "import pandas as pd\n",
    "import urllib.request\n",
    "import os\n",
    "\n",
    "dir_driver=\"./chromedriver\"\n",
    "driver=webdriver.Chrome(dir_driver)\n",
    "sleep(0.5)\n",
    "\n",
    "keyword = '크루즈'\n",
    "base_url=\"https://www.yna.co.kr/search/index?query={}\".format(keyword)\n",
    "driver.get(base_url)\n",
    "object = bs(driver.page_source, 'html.parser')\n",
    "\n",
    "# 제목 크롤링\n",
    "subjects = object.find_all('span', {'class':'tt2'})\n",
    "subjects = [subject.text for subject in subjects]\n",
    "\n",
    "# 내용 크롤링\n",
    "contents = object.find_all('span', {'class':'cts'})\n",
    "contents = [content.text for content in contents]\n",
    "\n",
    "# 이미지 크롤링\n",
    "images = object.find('div', {'class':'cts_atclst'})\n",
    "images = images.find_all('img')\n",
    "images = [\"https:\" + image.get('src') for image in images]\n",
    "for i in range(len(images)):\n",
    "    urllib.request.urlretrieve(images[i], \"./images/\" + str(i) + \".jpg\")\n",
    "\n",
    "# 태그 크롤링\n",
    "tags = list()\n",
    "for i in range(1, 6):\n",
    "    driver.find_element_by_xpath('//*[@id=\"article_list\"]/div[2]/ul/li[{}]/a'.format(i)).click()\n",
    "    sleep(0.1)\n",
    "    object = bs(driver.page_source, 'html.parser')\n",
    "    temp_tags = object.select('#articleWrap > div.content01.scroll-article-zone01 > div > div > div.keyword-zone > ul > li > a')\n",
    "    temp_tags = [temp_tag.text for temp_tag in temp_tags]\n",
    "    tags.append(temp_tags)\n",
    "    driver.back()\n",
    "    sleep(0.1)\n",
    "\n",
    "data = {\"subject\" : subjects, \"content\":contents, \"tags\":tags, \"images\":images}\n",
    "df = pd.DataFrame(data)\n",
    "print(df.head(5))\n",
    "driver.close()\n",
    "#df.to_csv(\"test.csv\", encoding = \"utf-8-sig\")"
   ]
  },
  {
   "cell_type": "code",
   "execution_count": 38,
   "id": "58e072ca",
   "metadata": {
    "scrolled": true
   },
   "outputs": [
    {
     "name": "stdout",
     "output_type": "stream",
     "text": [
      "Requirement already satisfied: psycopg2 in c:\\users\\offbe\\anaconda3\\lib\\site-packages (2.9.5)\n"
     ]
    }
   ],
   "source": [
    "!pip install psycopg2"
   ]
  },
  {
   "cell_type": "code",
   "execution_count": 71,
   "id": "ef3a1c8e",
   "metadata": {},
   "outputs": [
    {
     "name": "stdout",
     "output_type": "stream",
     "text": [
      "Connection established\n"
     ]
    },
    {
     "ename": "UndefinedColumn",
     "evalue": "오류:  \"크루즈\" 이름의 칼럼은 없습니다\nLINE 1: ...l_yn, reg_mem_no, reg_dt, reg_tm) VALUES (13, 1, #크루즈, 'N...\n                                                             ^\nHINT:  아마 \"news_tag.seq\" 칼럼이나 \"news_tag.tag\" 칼럼을 참조하는 것 같습니다.\n",
     "output_type": "error",
     "traceback": [
      "\u001b[1;31m---------------------------------------------------------------------------\u001b[0m",
      "\u001b[1;31mUndefinedColumn\u001b[0m                           Traceback (most recent call last)",
      "Input \u001b[1;32mIn [71]\u001b[0m, in \u001b[0;36m<cell line: 26>\u001b[1;34m()\u001b[0m\n\u001b[0;32m     38\u001b[0m         reg_dt \u001b[38;5;241m=\u001b[39m \u001b[38;5;124m\"\u001b[39m\u001b[38;5;124m'\u001b[39m\u001b[38;5;132;01m{}\u001b[39;00m\u001b[38;5;124m'\u001b[39m\u001b[38;5;124m\"\u001b[39m\u001b[38;5;241m.\u001b[39mformat(datetime\u001b[38;5;241m.\u001b[39mtoday()\u001b[38;5;241m.\u001b[39mstrftime(\u001b[38;5;124m\"\u001b[39m\u001b[38;5;124m%\u001b[39m\u001b[38;5;124mY-\u001b[39m\u001b[38;5;124m%\u001b[39m\u001b[38;5;124mm-\u001b[39m\u001b[38;5;132;01m%d\u001b[39;00m\u001b[38;5;124m\"\u001b[39m))\n\u001b[0;32m     39\u001b[0m         reg_tm \u001b[38;5;241m=\u001b[39m \u001b[38;5;124m\"\u001b[39m\u001b[38;5;124m'\u001b[39m\u001b[38;5;132;01m{}\u001b[39;00m\u001b[38;5;124m'\u001b[39m\u001b[38;5;124m\"\u001b[39m\u001b[38;5;241m.\u001b[39mformat(datetime\u001b[38;5;241m.\u001b[39mtoday()\u001b[38;5;241m.\u001b[39mstrftime(\u001b[38;5;124m\"\u001b[39m\u001b[38;5;124m%\u001b[39m\u001b[38;5;124mH:\u001b[39m\u001b[38;5;124m%\u001b[39m\u001b[38;5;124mM:\u001b[39m\u001b[38;5;124m%\u001b[39m\u001b[38;5;124mS\u001b[39m\u001b[38;5;124m\"\u001b[39m))\n\u001b[1;32m---> 40\u001b[0m         \u001b[43mcursor\u001b[49m\u001b[38;5;241;43m.\u001b[39;49m\u001b[43mexecute\u001b[49m\u001b[43m(\u001b[49m\u001b[38;5;124;43m\"\u001b[39;49m\u001b[38;5;124;43mINSERT INTO news_tag (news_no, seq, tag, del_yn, reg_mem_no, reg_dt, reg_tm) VALUES (\u001b[39;49m\u001b[38;5;132;43;01m{}\u001b[39;49;00m\u001b[38;5;124;43m, \u001b[39;49m\u001b[38;5;132;43;01m{}\u001b[39;49;00m\u001b[38;5;124;43m, \u001b[39;49m\u001b[38;5;132;43;01m{}\u001b[39;49;00m\u001b[38;5;124;43m, \u001b[39;49m\u001b[38;5;132;43;01m{}\u001b[39;49;00m\u001b[38;5;124;43m, \u001b[39;49m\u001b[38;5;132;43;01m{}\u001b[39;49;00m\u001b[38;5;124;43m, \u001b[39;49m\u001b[38;5;132;43;01m{}\u001b[39;49;00m\u001b[38;5;124;43m, \u001b[39;49m\u001b[38;5;132;43;01m{}\u001b[39;49;00m\u001b[38;5;124;43m);\u001b[39;49m\u001b[38;5;124;43m\"\u001b[39;49m\u001b[38;5;241;43m.\u001b[39;49m\u001b[43mformat\u001b[49m\u001b[43m(\u001b[49m\u001b[43mnews_no\u001b[49m\u001b[43m,\u001b[49m\u001b[43m \u001b[49m\u001b[43mseq\u001b[49m\u001b[43m,\u001b[49m\u001b[43m \u001b[49m\u001b[43mtag\u001b[49m\u001b[43m,\u001b[49m\u001b[43m \u001b[49m\u001b[43mdel_yn\u001b[49m\u001b[43m,\u001b[49m\u001b[43m \u001b[49m\u001b[43mreg_mem_no\u001b[49m\u001b[43m,\u001b[49m\u001b[43m \u001b[49m\u001b[43mreg_dt\u001b[49m\u001b[43m,\u001b[49m\u001b[43m \u001b[49m\u001b[43mreg_tm\u001b[49m\u001b[43m)\u001b[49m\u001b[43m)\u001b[49m\n\u001b[0;32m     41\u001b[0m \u001b[38;5;66;03m# Clean up\u001b[39;00m\n\u001b[0;32m     42\u001b[0m conn\u001b[38;5;241m.\u001b[39mcommit()\n",
      "\u001b[1;31mUndefinedColumn\u001b[0m: 오류:  \"크루즈\" 이름의 칼럼은 없습니다\nLINE 1: ...l_yn, reg_mem_no, reg_dt, reg_tm) VALUES (13, 1, #크루즈, 'N...\n                                                             ^\nHINT:  아마 \"news_tag.seq\" 칼럼이나 \"news_tag.tag\" 칼럼을 참조하는 것 같습니다.\n"
     ]
    }
   ],
   "source": [
    "import psycopg2\n",
    "\n",
    "# Update connection string information\n",
    "host = \"localhost\"\n",
    "dbname = \"postgres\"\n",
    "user = \"postgres\"\n",
    "password = \"postgres\"\n",
    "sslmode = \"allow\"\n",
    "\n",
    "# Construct connection string\n",
    "conn_string = \"host={0} user={1} dbname={2} password={3} sslmode={4}\".format(host, user, dbname, password, sslmode)\n",
    "conn = psycopg2.connect(conn_string)\n",
    "print(\"Connection established\")\n",
    "\n",
    "cursor = conn.cursor()\n",
    "\n",
    "# Insert some data into the table\n",
    "cursor.execute(\"SELECT news_no FROM news_contents;\")\n",
    "rows = cursor.fetchall()\n",
    "news_no = max([row[0] for row in rows])\n",
    "\n",
    "cursor.execute(\"SELECT seq FROM news_tag;\")\n",
    "rows = cursor.fetchall()\n",
    "seq = max([row[0] for row in rows]) if len(rows)!=0 else 0\n",
    "\n",
    "for i in range(len(subjects)):\n",
    "    news_no += 1\n",
    "    title = \"'{}'\".format(subjects[i].replace(\"'\", \"''\", 10000))\n",
    "    content = \"'{}'\".format(contents[i].replace(\"'\", \"''\", 10000))\n",
    "    mem_no = \"'김가영'\"\n",
    "    crawl_dt = \"'{}'\".format(datetime.today().strftime(\"%Y-%m-%d\"))\n",
    "    crawl_tm = \"'{}'\".format(datetime.today().strftime(\"%H:%M:%S\"))\n",
    "    cursor.execute(\"INSERT INTO news_contents (news_no, title, content, mem_no, crawl_dt, crawl_tm) VALUES ({}, {}, {}, {}, {}, {});\".format(news_no, title, content, mem_no, crawl_dt, crawl_tm))\n",
    "    for tag in tags[i]:\n",
    "        seq += 1\n",
    "        tag = \"'{}'\".format()\n",
    "        del_yn = \"'N'\"\n",
    "        reg_mem_no = \"'김가영'\"\n",
    "        reg_dt = \"'{}'\".format(datetime.today().strftime(\"%Y-%m-%d\"))\n",
    "        reg_tm = \"'{}'\".format(datetime.today().strftime(\"%H:%M:%S\"))\n",
    "        cursor.execute(\"INSERT INTO news_tag (news_no, seq, tag, del_yn, reg_mem_no, reg_dt, reg_tm) VALUES ({}, {}, {}, {}, {}, {}, {});\".format(news_no, seq, tag, del_yn, reg_mem_no, reg_dt, reg_tm))\n",
    "# Clean up\n",
    "conn.commit()\n",
    "cursor.close()\n",
    "conn.close()\n",
    "print('전부 삽입 완료!')"
   ]
  },
  {
   "cell_type": "code",
   "execution_count": null,
   "id": "19676efe",
   "metadata": {},
   "outputs": [],
   "source": [
    "list"
   ]
  }
 ],
 "metadata": {
  "kernelspec": {
   "display_name": "Python 3 (ipykernel)",
   "language": "python",
   "name": "python3"
  },
  "language_info": {
   "codemirror_mode": {
    "name": "ipython",
    "version": 3
   },
   "file_extension": ".py",
   "mimetype": "text/x-python",
   "name": "python",
   "nbconvert_exporter": "python",
   "pygments_lexer": "ipython3",
   "version": "3.9.12"
  }
 },
 "nbformat": 4,
 "nbformat_minor": 5
}
