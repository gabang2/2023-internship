{
 "cells": [
  {
   "cell_type": "code",
   "execution_count": 1,
   "id": "8261d286",
   "metadata": {
    "scrolled": true
   },
   "outputs": [],
   "source": [
    "from selenium import webdriver\n",
    "from bs4 import BeautifulSoup as bs\n",
    "import csv\n",
    "from time import sleep\n",
    "import ast\n",
    "import pandas as pd\n",
    "import urllib.request\n",
    "import os\n",
    "\n",
    "def crawling(keyword):\n",
    "    dir_driver=\"./chromedriver\"\n",
    "    driver=webdriver.Chrome(dir_driver)\n",
    "    sleep(0.01)\n",
    "    base_url=\"https://www.yna.co.kr/search/index?query={}\".format(keyword)\n",
    "    driver.get(base_url)\n",
    "    object = bs(driver.page_source, 'html.parser')\n",
    "\n",
    "    # 제목 크롤링\n",
    "    subjects = object.find_all('span', {'class':'tt2'})\n",
    "    subjects = [subject.text for subject in subjects]\n",
    "\n",
    "    # 내용 크롤링\n",
    "    contents = object.find_all('span', {'class':'cts'})\n",
    "    contents = [content.text for content in contents]\n",
    "\n",
    "    # 이미지 크롤링\n",
    "    images = object.find('div', {'class':'cts_atclst'})\n",
    "    images = images.find_all('img')\n",
    "    images = [\"https:\" + image.get('src') for image in images]\n",
    "    for i in range(len(images)):\n",
    "        urllib.request.urlretrieve(images[i], \"./images/\" + str(i) + \".jpg\")\n",
    "\n",
    "    # 태그 크롤링\n",
    "    tags = list()\n",
    "    for i in range(1, 6):\n",
    "        driver.find_element_by_xpath('//*[@id=\"article_list\"]/div[2]/ul/li[{}]/a'.format(i)).click()\n",
    "        sleep(0.1)\n",
    "        object = bs(driver.page_source, 'html.parser')\n",
    "        temp_tags = object.select('#articleWrap > div.content01.scroll-article-zone01 > div > div > div.keyword-zone > ul > li > a')\n",
    "        temp_tags = [temp_tag.text.replace(\"#\", \"\") for temp_tag in temp_tags]\n",
    "        tags.append(temp_tags)\n",
    "        driver.back()\n",
    "        sleep(0.01)\n",
    "\n",
    "    data = {\"subjects\" : subjects, \"contents\":contents, \"tags\":tags, \"images\":images}\n",
    "    driver.close()\n",
    "    return data"
   ]
  },
  {
   "cell_type": "code",
   "execution_count": 2,
   "id": "ef3a1c8e",
   "metadata": {},
   "outputs": [],
   "source": [
    "import psycopg2\n",
    "from datetime import datetime, date\n",
    "def connect_db():\n",
    "    host = \"localhost\"\n",
    "    dbname = \"postgres\"\n",
    "    user = \"postgres\"\n",
    "    password = \"postgres\"\n",
    "    sslmode = \"allow\"\n",
    "\n",
    "    conn_string = \"host={0} user={1} dbname={2} password={3} sslmode={4}\".format(host, user, dbname, password, sslmode)\n",
    "    conn = psycopg2.connect(conn_string)\n",
    "    cursor = conn.cursor()\n",
    "    return conn, cursor\n",
    "\n",
    "def insert_data(data, cursor):\n",
    "    cursor.execute(\"SELECT news_no FROM news_contents;\")\n",
    "    rows = cursor.fetchall()\n",
    "    news_no = max([row[0] for row in rows]) if len(rows)!=0 else 0\n",
    "\n",
    "    cursor.execute(\"SELECT seq FROM news_tag;\")\n",
    "    rows = cursor.fetchall()\n",
    "    seq = max([row[0] for row in rows]) if len(rows)!=0 else 0\n",
    "\n",
    "    for i in range(len(data['subjects'])):\n",
    "        news_no += 1\n",
    "        title = \"'{}'\".format(data['subjects'][i].replace(\"'\", \"''\", 10000))\n",
    "        content = \"'{}'\".format(data['contents'][i].replace(\"'\", \"''\", 10000))\n",
    "        mem_no = \"'김가영'\"\n",
    "        crawl_dt = \"'{}'\".format(datetime.today().strftime(\"%Y-%m-%d\"))\n",
    "        crawl_tm = \"'{}'\".format(datetime.today().strftime(\"%H:%M:%S\"))\n",
    "        cursor.execute(\"INSERT INTO news_contents (news_no, title, content, mem_no, crawl_dt, crawl_tm) VALUES ({}, {}, {}, {}, {}, {});\".format(news_no, title, content, mem_no, crawl_dt, crawl_tm))\n",
    "        for tag in data['tags'][i]:\n",
    "            seq += 1\n",
    "            tag = \"'{}'\".format(tag)\n",
    "            del_yn = \"'N'\"\n",
    "            reg_mem_no = \"'김가영'\"\n",
    "            reg_dt = \"'{}'\".format(datetime.today().strftime(\"%Y-%m-%d\"))\n",
    "            reg_tm = \"'{}'\".format(datetime.today().strftime(\"%H:%M:%S\"))\n",
    "            cursor.execute(\"INSERT INTO news_tag (news_no, seq, tag, del_yn, reg_mem_no, reg_dt, reg_tm) VALUES ({}, {}, {}, {}, {}, {}, {});\".format(news_no, seq, tag, del_yn, reg_mem_no, reg_dt, reg_tm))\n",
    "\n",
    "def save_data(conn, cursor):\n",
    "    conn.commit()\n",
    "    cursor.close()\n",
    "    conn.close()"
   ]
  },
  {
   "cell_type": "code",
   "execution_count": 3,
   "id": "cefeca3e",
   "metadata": {
    "scrolled": true
   },
   "outputs": [],
   "source": [
    "def execute():\n",
    "    num = int(input(\"단어의 개수 => \"))\n",
    "    keyword_list = list()\n",
    "    \n",
    "    for _ in range(num):\n",
    "        temp_input = input(\"단어 => \")\n",
    "        keyword_list.append(temp_input)\n",
    "    \n",
    "    for keyword in keyword_list:\n",
    "        data = crawling(keyword)\n",
    "        conn, cursor = connect_db()\n",
    "        insert_data(data, cursor)\n",
    "        save_data(conn, cursor)\n",
    "    print(\"==========\\n완료하였습니다.\")\n",
    "    \n",
    "def simple_execute(keyword):\n",
    "    data = crawling(keyword)\n",
    "    conn, cursor = connect_db()\n",
    "    insert_data(data, cursor)\n",
    "    save_data(conn, cursor)\n",
    "    print(\"==========\\n완료하였습니다.\")"
   ]
  },
  {
   "cell_type": "markdown",
   "id": "0c532eed",
   "metadata": {},
   "source": [
    "## 특정 시간에 실행"
   ]
  },
  {
   "cell_type": "code",
   "execution_count": 4,
   "id": "25b517e9",
   "metadata": {
    "scrolled": true
   },
   "outputs": [
    {
     "name": "stdout",
     "output_type": "stream",
     "text": [
      "Requirement already satisfied: schedule in c:\\users\\offbe\\anaconda3\\lib\\site-packages (1.1.0)\n"
     ]
    }
   ],
   "source": [
    "#!pip install schedule"
   ]
  },
  {
   "cell_type": "code",
   "execution_count": null,
   "id": "d136f409",
   "metadata": {},
   "outputs": [
    {
     "name": "stdout",
     "output_type": "stream",
     "text": [
      "==========\n",
      "==========\n",
      "==========\n",
      "완료하였습니다.\n"
     ]
    }
   ],
   "source": [
    "import schedule\n",
    "import time\n",
    "\n",
    "job = schedule.every().day.at(\"09:00:00\").do(simple_execute, \"크루즈\")\n",
    "\n",
    "while True:\n",
    "    schedule.run_pending()\n",
    "    time.sleep(1)"
   ]
  }
 ],
 "metadata": {
  "kernelspec": {
   "display_name": "Python 3 (ipykernel)",
   "language": "python",
   "name": "python3"
  },
  "language_info": {
   "codemirror_mode": {
    "name": "ipython",
    "version": 3
   },
   "file_extension": ".py",
   "mimetype": "text/x-python",
   "name": "python",
   "nbconvert_exporter": "python",
   "pygments_lexer": "ipython3",
   "version": "3.9.12"
  }
 },
 "nbformat": 4,
 "nbformat_minor": 5
}
