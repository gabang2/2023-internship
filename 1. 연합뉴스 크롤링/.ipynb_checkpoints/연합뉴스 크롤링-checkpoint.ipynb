{
 "cells": [
  {
   "cell_type": "code",
   "execution_count": 1,
   "id": "8261d286",
   "metadata": {},
   "outputs": [
    {
     "name": "stdout",
     "output_type": "stream",
     "text": [
      "                                subject  \\\n",
      "0        中 출발 크루즈 6년간 제주 발길 끊어…올해도 '전무'   \n",
      "1    [인천돋보기](25) 강릉엔 정동진·인천엔 정서진…해넘이 명소   \n",
      "2         부산역 광장∼초량동 잇는 38ｍ 공중보행로 조성 추진   \n",
      "3       갤러리아百, 명품 신발 선보인다…내년 루이비통·샤넬 오픈   \n",
      "4  아시아-북미 잇는 '베링육교' 훨씬 늦은 3만5천700년 전 열려   \n",
      "\n",
      "                                             content                     tags  \\\n",
      "0  ...어졌다.\\n\\n    2일 제주도가 확정한 2023년 국제크루즈 선석 배정 결...                   [#크루즈]   \n",
      "1  ...uot;아라뱃길은 서해와 한강을 잇는 최초 뱃길로 우리 민족의 멋과 얼, 정서...    [#경인아라뱃길, #정서진, #해넘이]   \n",
      "2  ...어 현재 실시설계 용역을 벌이고 있으며, 내년 7월 용역을 마무리하고 2024...           [#부산역, #공중보행로]   \n",
      "3  ...으로 루이비통과 샤넬 슈즈를 선보일 예정이다. \\n    디올 슈즈 매장은 디...               [#슈즈, #명품]   \n",
      "4  ... \\n    이는 약 11만 년 전 마지막 빙기가 시작되고 6만 년 이상 지난...  [#베링육교, #샌타크루즈 캘리포니아대학]   \n",
      "\n",
      "                                              images  \n",
      "0  https://img.yna.co.kr/photo/yna/YH/2017/03/16/...  \n",
      "1  https://img.yna.co.kr/etc/inner/KR/2022/12/27/...  \n",
      "2  https://img.yna.co.kr/photo/cms/2020/01/10/60/...  \n",
      "3  https://img.yna.co.kr/etc/inner/KR/2022/12/27/...  \n",
      "4  https://img.yna.co.kr/etc/inner/KR/2022/12/27/...  \n"
     ]
    }
   ],
   "source": [
    "from selenium import webdriver\n",
    "from bs4 import BeautifulSoup as bs\n",
    "import csv\n",
    "from time import sleep\n",
    "import ast\n",
    "import pandas as pd\n",
    "import urllib.request\n",
    "import os\n",
    "\n",
    "dir_driver=\"./chromedriver\"\n",
    "driver=webdriver.Chrome(dir_driver)\n",
    "sleep(0.5)\n",
    "\n",
    "keyword = '크루즈'\n",
    "base_url=\"https://www.yna.co.kr/search/index?query={}\".format(keyword)\n",
    "driver.get(base_url)\n",
    "object = bs(driver.page_source, 'html.parser')\n",
    "\n",
    "# 제목 크롤링\n",
    "subjects = object.find_all('span', {'class':'tt2'})\n",
    "subjects = [subject.text for subject in subjects]\n",
    "\n",
    "# 내용 크롤링\n",
    "contents = object.find_all('span', {'class':'cts'})\n",
    "contents = [content.text for content in contents]\n",
    "\n",
    "# 이미지 크롤링\n",
    "images = object.find('div', {'class':'cts_atclst'})\n",
    "images = images.find_all('img')\n",
    "images = [\"https:\" + image.get('src') for image in images]\n",
    "for i in range(len(images)):\n",
    "    urllib.request.urlretrieve(images[i], \"./images/\" + str(i) + \".jpg\")\n",
    "\n",
    "# 태그 크롤링\n",
    "tags = list()\n",
    "for i in range(1, 6):\n",
    "    driver.find_element_by_xpath('//*[@id=\"article_list\"]/div[2]/ul/li[{}]/a'.format(i)).click()\n",
    "    sleep(0.1)\n",
    "    object = bs(driver.page_source, 'html.parser')\n",
    "    temp_tags = object.select('#articleWrap > div.content01.scroll-article-zone01 > div > div > div.keyword-zone > ul > li > a')\n",
    "    temp_tags = [temp_tag.text for temp_tag in temp_tags]\n",
    "    tags.append(temp_tags)\n",
    "    driver.back()\n",
    "    sleep(0.1)\n",
    "\n",
    "data = {\"subject\" : subjects, \"content\":contents, \"tags\":tags, \"images\":images}\n",
    "df = pd.DataFrame(data)\n",
    "print(df.head(5))\n",
    "driver.close()\n",
    "#df.to_csv(\"test.csv\", encoding = \"utf-8-sig\")"
   ]
  }
 ],
 "metadata": {
  "kernelspec": {
   "display_name": "Python 3 (ipykernel)",
   "language": "python",
   "name": "python3"
  },
  "language_info": {
   "codemirror_mode": {
    "name": "ipython",
    "version": 3
   },
   "file_extension": ".py",
   "mimetype": "text/x-python",
   "name": "python",
   "nbconvert_exporter": "python",
   "pygments_lexer": "ipython3",
   "version": "3.9.12"
  }
 },
 "nbformat": 4,
 "nbformat_minor": 5
}
